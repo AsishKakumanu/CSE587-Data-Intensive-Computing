{
 "cells": [
  {
   "cell_type": "markdown",
   "metadata": {},
   "source": [
    "# stopwords"
   ]
  },
  {
   "cell_type": "code",
   "execution_count": 6,
   "metadata": {},
   "outputs": [],
   "source": [
    "# Final Stopword remover\n",
    "with open('swordsny.txt') as stopfile:\n",
    "    stopword = stopfile.read()\n",
    "    listSw = stopword.split()\n",
    "\n",
    "#open(\"1ny.txt\",\"r\",encoding=\"utf-8\")\n",
    "with open(\"1ny.txt\",\"r\") as readFile:\n",
    "    filedata = readFile.read()\n",
    "\n",
    "total_sentences = filedata.splitlines()\n",
    "\n",
    "text = ''\n",
    "for i in range(len(total_sentences)):\n",
    "    for word in total_sentences[i].split():\n",
    "        if word not in listSw:\n",
    "            text = text + word + ' '\n",
    "    #print(text)\n",
    "    text = text + '\\n'\n",
    "    "
   ]
  },
  {
   "cell_type": "markdown",
   "metadata": {},
   "source": [
    "# links&usernames"
   ]
  },
  {
   "cell_type": "code",
   "execution_count": 7,
   "metadata": {},
   "outputs": [],
   "source": [
    "import re\n",
    "import nltk\n",
    "from  nltk.corpus import stopwords\n",
    "\n",
    "# Lowercase \n",
    "#file = open('testfile.txt',encoding=\"utf-8\")\n",
    "#file_lines = file.read()\n",
    "file_lines_lower = text.lower()\n",
    "file_lines_lower\n",
    "\n",
    "# Remove username\n",
    "file_lines_remove_username = re.sub('@[^\\s]+','',file_lines_lower)\n",
    "\n",
    "# Remove links\n",
    "file_lines_remove_links = re.sub(r'http\\S+', '', file_lines_remove_username)\n",
    "\n",
    "# Remove Punctuation\n",
    "punctuations = '''!()-[]{};:'\"\\,<>./?@#$%^&*_~'''\n",
    "lines_punctuated = \"\"\n",
    "\n",
    "for char in file_lines_remove_links:\n",
    "    if char not in punctuations:\n",
    "        lines_punctuated = lines_punctuated + char\n",
    "\n",
    "\n",
    "# Removing spaces \n",
    "l = lines_punctuated.lstrip()\n",
    "r = l.rstrip()\n",
    "total = r.strip()\n",
    "\n",
    "#newFile = open(\"testfileoutput.txt\",\"a\",encoding=\"utf-8\")\n",
    "\n",
    "#print(lines_punctuated)\n",
    "#newFile.write(total)\n",
    "#newFile.close()"
   ]
  },
  {
   "cell_type": "markdown",
   "metadata": {},
   "source": [
    "# special characters"
   ]
  },
  {
   "cell_type": "code",
   "execution_count": 8,
   "metadata": {},
   "outputs": [],
   "source": [
    "import re\n",
    "#file = open('testfile.txt',encoding=\"utf-8\")\n",
    "#file_lines = file.read()\n",
    "myStr = re.sub('[^ a-zA-Z.|\\n]', '', total)\n",
    "\n",
    "#print(myStr)\n",
    "\n",
    "# newFile = open(\"testforall.txt\",\"a\",encoding=\"utf-8\")\n",
    "# newFile.write(myStr)    \n",
    "# newFile.close()"
   ]
  },
  {
   "cell_type": "markdown",
   "metadata": {},
   "source": [
    "# stemming"
   ]
  },
  {
   "cell_type": "code",
   "execution_count": 9,
   "metadata": {},
   "outputs": [
    {
     "name": "stdout",
     "output_type": "stream",
     "text": [
      "[nltk_data] Downloading package punkt to\n",
      "[nltk_data]     C:\\Users\\pswap\\AppData\\Roaming\\nltk_data...\n",
      "[nltk_data]   Package punkt is already up-to-date!\n"
     ]
    }
   ],
   "source": [
    "import nltk\n",
    "nltk.download('punkt')\n",
    "from nltk.stem import SnowballStemmer\n",
    "from nltk.stem import PorterStemmer\n",
    "from nltk.stem import LancasterStemmer\n",
    "from nltk.tokenize import sent_tokenize, word_tokenize\n",
    "\n",
    "porter = PorterStemmer()\n",
    "stemmer= SnowballStemmer(\"english\",)\n",
    "\n",
    "\n",
    "def stemSentence(sentence):\n",
    "    token_words=word_tokenize(str(sentence))\n",
    "    token_words\n",
    "    stem_sentence=[]\n",
    "    for word in token_words:\n",
    "        stem_sentence.append(stemmer.stem(word))\n",
    "        stem_sentence.append(\" \")\n",
    "    return \"\".join(stem_sentence)\n",
    "\n",
    "x=''\n",
    "for lines in myStr.splitlines():\n",
    "    x=x+stemSentence(lines)\n",
    "    x = x + '\\n'\n",
    "#print(\"final x : {}\".format(x))\n",
    "    \n",
    "#print(x)\n",
    "\n",
    "newFile = open(\"1nyoutput.txt\",\"a\",encoding=\"utf-8\")\n",
    "newFile.write(x)    \n",
    "newFile.close()\n"
   ]
  },
  {
   "cell_type": "code",
   "execution_count": null,
   "metadata": {},
   "outputs": [],
   "source": []
  }
 ],
 "metadata": {
  "kernelspec": {
   "display_name": "Python 3",
   "language": "python",
   "name": "python3"
  },
  "language_info": {
   "codemirror_mode": {
    "name": "ipython",
    "version": 3
   },
   "file_extension": ".py",
   "mimetype": "text/x-python",
   "name": "python",
   "nbconvert_exporter": "python",
   "pygments_lexer": "ipython3",
   "version": "3.6.4"
  }
 },
 "nbformat": 4,
 "nbformat_minor": 2
}
