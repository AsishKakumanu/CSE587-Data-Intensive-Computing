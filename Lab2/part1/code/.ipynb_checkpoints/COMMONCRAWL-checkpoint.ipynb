{
 "cells": [
  {
   "cell_type": "markdown",
   "metadata": {},
   "source": [
    "Name : Swapnika P <br/>\n",
    "UB Person No. : 50289464 <br/>\n",
    "UBIT Name : swapnika <br/>\n",
    "\n",
    "###### Teammate\n",
    "\n",
    "Name : Asish Kakumanu <br/>\n",
    "UB Person No. : 50288695 <br/>\n",
    "UBIT Name : asishkak <br/>\n"
   ]
  },
  {
   "cell_type": "markdown",
   "metadata": {},
   "source": [
    "Name : Asish Kakumanu <br/>\n",
    "UB Person No. : 50288695 <br/>\n",
    "UBIT Name : asishkak <br/>\n",
    "\n",
    "###### Teammate\n",
    "\n",
    "Name : Swapnika P <br/>\n",
    "UB Person No. : 50289464 <br/>\n",
    "UBIT Name : swapnika <br/>"
   ]
  },
  {
   "cell_type": "code",
   "execution_count": null,
   "metadata": {},
   "outputs": [],
   "source": [
    "import requests\n",
    "import json\n",
    "import gzip \n",
    "import codecs\n",
    "import StringIO\n",
    "import pandas\n",
    "\n",
    "from bs4 import BeautifulSoup\n",
    "\n",
    "URL = \"http://index.commoncrawl.org/CC-MAIN-\"\n",
    "INDEXES = ['2019-13','2019-09','2019-04']\n",
    "record_list = []\n",
    "\n",
    "domain = \"nytimes.com\"\n",
    "# https://www.huffpost.com\n",
    "# https://www.wsj.com/\n",
    "# https://www.usatoday.com\n",
    "# https://abcnews.go.com\n",
    "# nytimes.com\n",
    "\n",
    "# Index Query URL \n",
    "## URL -> http://index.commoncrawl.org/\n",
    "### File -> CC-MAIN-2019-13-index?url=cnn.com&output=json\n",
    "\n",
    "def search_for_domain(domain):\n",
    "    record_list = []\n",
    "    print(\"Finding {} domain\".format(domain))\n",
    "    \n",
    "    for index in INDEXES:\n",
    "        url = \"http://index.commoncrawl.org/CC-MAIN-{}-index?url={}&output=json\".format(index,domain)\n",
    "        print(url)\n",
    "        response = requests.get(url)\n",
    "        \n",
    "        if response.status_code == 200:\n",
    "            records = response.content.splitlines()\n",
    "            \n",
    "            for record in records:\n",
    "                record_list.append(json.loads(record))\n",
    "                #print(record_list)\n",
    "                #print(\"\\n\")\n",
    "    return record_list\n",
    "        \n",
    "record_list = search_for_domain(domain)\n",
    "\n",
    "for record in record_list:\n",
    "    offset,length = int(record['offset']),int(record['length'])\n",
    "    offset_end = offset + length- 1\n",
    "    \n",
    "    prefix = 'https://commoncrawl.s3.amazonaws.com/'\n",
    "    response = requests.get(prefix + record['filename'],\n",
    "                           headers={'Range': 'bytes={}-{}'.format(offset,offset_end)})\n",
    "    \n",
    "    raw_data = StringIO.StringIO(response.content)\n",
    "    #print(\"Raw Data {}\".format(raw_data))\n",
    "    f = gzip.GzipFile(fileobj=raw_data)\n",
    "    \n",
    "    # What we have now is just the WARC response, formatted:\n",
    "    data = f.read()\n",
    "    \n",
    "    response = \"\"\n",
    "    \n",
    "    if len(data):\n",
    "        try:\n",
    "            warc, header, response = data.strip().split('\\r\\n\\r\\n', 2)\n",
    "        except:\n",
    "            pass\n",
    "    \n",
    "    keyword1 = [\"trump\",\"wall\",\"border wall\",\"mueller\"]\n",
    "    textout = ''\n",
    "    #print(\"Response : {}\".format(response))\n",
    "    data = BeautifulSoup(response)\n",
    "    text = data.findAll('p')\n",
    "    print(\"Paragraph : {}\".format(text))\n",
    "    for item in text:\n",
    "        textout = textout + item.getText().encode(\"utf-8\")\n",
    "        textout = textout.lower()\n",
    "    \n",
    "    if any(word in textout for word in keyword1):\n",
    "        writefile = open(\"cc-trump.txt\",\"a\")\n",
    "        writefile.write(textout)\n",
    "        writefile.write(\"\\n\")\n",
    "        \n",
    "        writeLinks = open(\"cc-trump-links.csv\",\"a\")\n",
    "        pagelinks = []\n",
    "        pagelinks.append(record)\n",
    "        dataframe = pandas.DataFrame(pagelinks)\n",
    "        dataframe.to_csv(writeLinks, index=False)\n",
    "\n",
    "    "
   ]
  }
 ],
 "metadata": {
  "kernelspec": {
   "display_name": "Python 3",
   "language": "python",
   "name": "python3"
  },
  "language_info": {
   "codemirror_mode": {
    "name": "ipython",
    "version": 3
   },
   "file_extension": ".py",
   "mimetype": "text/x-python",
   "name": "python",
   "nbconvert_exporter": "python",
   "pygments_lexer": "ipython3",
   "version": "3.6.4"
  },
  "toc": {
   "base_numbering": 1,
   "nav_menu": {},
   "number_sections": true,
   "sideBar": true,
   "skip_h1_title": false,
   "title_cell": "Table of Contents",
   "title_sidebar": "Contents",
   "toc_cell": false,
   "toc_position": {},
   "toc_section_display": true,
   "toc_window_display": false
  },
  "varInspector": {
   "cols": {
    "lenName": 16,
    "lenType": 16,
    "lenVar": 40
   },
   "kernels_config": {
    "python": {
     "delete_cmd_postfix": "",
     "delete_cmd_prefix": "del ",
     "library": "var_list.py",
     "varRefreshCmd": "print(var_dic_list())"
    },
    "r": {
     "delete_cmd_postfix": ") ",
     "delete_cmd_prefix": "rm(",
     "library": "var_list.r",
     "varRefreshCmd": "cat(var_dic_list()) "
    }
   },
   "types_to_exclude": [
    "module",
    "function",
    "builtin_function_or_method",
    "instance",
    "_Feature"
   ],
   "window_display": false
  }
 },
 "nbformat": 4,
 "nbformat_minor": 2
}
